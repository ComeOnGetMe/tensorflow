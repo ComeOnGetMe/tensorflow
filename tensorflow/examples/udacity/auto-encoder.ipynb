{
 "cells": [
  {
   "cell_type": "code",
   "execution_count": 62,
   "metadata": {
    "collapsed": true
   },
   "outputs": [],
   "source": [
    "from __future__ import print_function\n",
    "import numpy as np\n",
    "import tensorflow as tf\n",
    "from six.moves import cPickle as pickle\n",
    "from six.moves import range"
   ]
  },
  {
   "cell_type": "code",
   "execution_count": 63,
   "metadata": {
    "collapsed": false
   },
   "outputs": [
    {
     "name": "stdout",
     "output_type": "stream",
     "text": [
      "Training set (200000, 28, 28) (200000,)\n",
      "Validation set (10000, 28, 28) (10000,)\n",
      "Test set (10000, 28, 28) (10000,)\n"
     ]
    }
   ],
   "source": [
    "pickle_file = 'notMNIST.pickle'\n",
    "\n",
    "with open(pickle_file, 'rb') as f:\n",
    "  save = pickle.load(f)\n",
    "  train_dataset = save['train_dataset']\n",
    "  train_labels = save['train_labels']\n",
    "  valid_dataset = save['valid_dataset']\n",
    "  valid_labels = save['valid_labels']\n",
    "  test_dataset = save['test_dataset']\n",
    "  test_labels = save['test_labels']\n",
    "  del save  # hint to help gc free up memory\n",
    "  print('Training set', train_dataset.shape, train_labels.shape)\n",
    "  print('Validation set', valid_dataset.shape, valid_labels.shape)\n",
    "  print('Test set', test_dataset.shape, test_labels.shape)"
   ]
  },
  {
   "cell_type": "code",
   "execution_count": 64,
   "metadata": {
    "collapsed": false
   },
   "outputs": [
    {
     "name": "stdout",
     "output_type": "stream",
     "text": [
      "Training set (200000, 784) (200000, 10)\n",
      "Validation set (10000, 784) (10000, 10)\n",
      "Test set (10000, 784) (10000, 10)\n"
     ]
    }
   ],
   "source": [
    "image_size = 28\n",
    "num_labels = 10\n",
    "\n",
    "def reformat(dataset, labels):\n",
    "  dataset = dataset.reshape((-1, image_size * image_size)).astype(np.float32)\n",
    "  # Map 0 to [1.0, 0.0, 0.0 ...], 1 to [0.0, 1.0, 0.0 ...]\n",
    "  # One Hot encoding\n",
    "  labels = (np.arange(num_labels) == labels[:,None]).astype(np.float32)\n",
    "  return dataset, labels\n",
    "train_dataset, train_labels = reformat(train_dataset, train_labels)\n",
    "valid_dataset, valid_labels = reformat(valid_dataset, valid_labels)\n",
    "test_dataset, test_labels = reformat(test_dataset, test_labels)\n",
    "print('Training set', train_dataset.shape, train_labels.shape)\n",
    "print('Validation set', valid_dataset.shape, valid_labels.shape)\n",
    "print('Test set', test_dataset.shape, test_labels.shape)\n",
    "\n"
   ]
  },
  {
   "cell_type": "code",
   "execution_count": 65,
   "metadata": {
    "collapsed": false
   },
   "outputs": [],
   "source": [
    "# print max(train_dataset[0]), min(train_dataset[0])\n",
    "train_dataset += 0.5\n",
    "valid_dataset += 0.5\n",
    "test_dataset += 0.5"
   ]
  },
  {
   "cell_type": "code",
   "execution_count": 77,
   "metadata": {
    "collapsed": false
   },
   "outputs": [],
   "source": [
    "# auto encoder \n",
    "batch_size = 128\n",
    "num_hidden = 1024\n",
    "beta = 0.2\n",
    "rho = 0.05\n",
    "\n",
    "def x_entropy(output, target):\n",
    "  with tf.name_scope(\"xentropy_loss\"):\n",
    "      cross_entropy = tf.add(tf.mul(tf.log(output, name='log_output'),target),\n",
    "                             tf.mul(tf.log(1 - output),(1 - target)))\n",
    "      return -1 * tf.reduce_mean(tf.reduce_sum(cross_entropy, 1), name='xentropy_mean')\n",
    "\n",
    "graph = tf.Graph()\n",
    "with graph.as_default():\n",
    "  #Inputs\n",
    "  tf_train_dataset = tf.placeholder(tf.float32,shape=(batch_size, image_size * image_size))\n",
    "  tf_train_labels = tf.placeholder(tf.float32, shape=(batch_size, num_labels))\n",
    "  tf_valid_dataset = tf.constant(valid_dataset)\n",
    "  tf_test_dataset = tf.constant(test_dataset)\n",
    "  \n",
    "  # Variables.\n",
    "  Xinit = 4 * np.sqrt(6.0 / (image_size * image_size + batch_size))\n",
    "  hidden_weights = tf.Variable(tf.random_uniform([image_size * image_size, num_hidden], -1*Xinit, Xinit))\n",
    "  hidden_biases = tf.Variable(tf.zeros([num_hidden]))\n",
    "  out_biases = tf.Variable(tf.zeros([image_size * image_size]))\n",
    "\n",
    "  classifier_weights = tf.Variable(tf.truncated_normal([image_size * image_size, num_labels]))\n",
    "  classifier_biases = tf.Variable(tf.zeros([num_labels]))\n",
    "\n",
    "  # Training computation.\n",
    "  def autoencode(data):\n",
    "    a1 = tf.nn.sigmoid(tf.matmul(data, hidden_weights) + hidden_biases)\n",
    "    rho_hat = tf.reduce_mean(a1,0)\n",
    "    kl = tf.add(tf.mul(rho, tf.log(rho / rho_hat)),\n",
    "                tf.mul(1-rho, tf.log((1-rho) / (1-rho_hat))))\n",
    "    return tf.nn.sigmoid(tf.matmul(a1, hidden_weights, transpose_b = True) + out_biases), tf.reduce_sum(kl)\n",
    "\n",
    "  encoded, kl = autoencode(tf_train_dataset)\n",
    "#   autoencoder_loss = x_entropy(a2, tf_train_dataset)\n",
    "  autoencoder_loss = tf.sqrt(tf.reduce_mean(tf.square(encoded-tf_train_dataset))) + kl\n",
    "    \n",
    "  logits = tf.matmul(encoded, classifier_weights) + classifier_biases\n",
    "  classify_loss = tf.reduce_mean(tf.nn.softmax_cross_entropy_with_logits(logits,tf_train_labels))\n",
    "  \n",
    "  # Optimizer.\n",
    "  ae_optimizer = tf.train.GradientDescentOptimizer(0.3).minimize(autoencoder_loss)\n",
    "\n",
    "  global_step = tf.Variable(0, trainable=False)\n",
    "  learning_rate = tf.train.exponential_decay(0.5, global_step, 500, 0.8, staircase=True)\n",
    "  cl_optimizer = tf.train.GradientDescentOptimizer(learning_rate).minimize(classify_loss, global_step=global_step)\n",
    "  \n",
    "  # Predictions for the training, validation, and test data.\n",
    "  train_prediction = tf.nn.softmax(logits)\n",
    "  valid_prediction, _ = autoencode(tf_valid_dataset)\n",
    "  test_prediction, _ = autoencode(tf_test_dataset)\n",
    "  valid_prediction = tf.nn.softmax(tf.matmul(valid_prediction, classifier_weights) + classifier_biases)\n",
    "  test_prediction = tf.nn.softmax(tf.matmul(test_prediction, classifier_weights) + classifier_biases)"
   ]
  },
  {
   "cell_type": "code",
   "execution_count": 78,
   "metadata": {
    "collapsed": false
   },
   "outputs": [
    {
     "name": "stdout",
     "output_type": "stream",
     "text": [
      "Initialized\n",
      "Minibatch loss at step 0: 669.628235\n",
      "Minibatch loss at step 500: 2.222730\n",
      "Minibatch loss at step 1000: 2.275139\n",
      "Minibatch loss at step 1500: 3.266211\n",
      "Minibatch loss at step 2000: 2.438263\n",
      "Minibatch loss at step 2500: 1.656603\n",
      "Minibatch loss at step 3000: 1.369729\n",
      "Minibatch loss at step 3500: 1.427632\n",
      "Minibatch loss at step 4000: 1.011026\n",
      "Minibatch loss at step 4500: 0.919349\n",
      "Minibatch loss at step 5000: 1.383479\n",
      "Minibatch loss at step 0: 10.960165\n",
      "Minibatch accuracy: 10.2%\n",
      "Validation accuracy: 15.0%\n",
      "Minibatch loss at step 500: 0.678513\n",
      "Minibatch accuracy: 80.5%\n",
      "Validation accuracy: 82.5%\n",
      "Minibatch loss at step 1000: 0.719513\n",
      "Minibatch accuracy: 82.8%\n",
      "Validation accuracy: 83.2%\n",
      "Minibatch loss at step 1500: 0.365552\n",
      "Minibatch accuracy: 89.1%\n",
      "Validation accuracy: 85.3%\n",
      "Minibatch loss at step 2000: 0.348819\n",
      "Minibatch accuracy: 91.4%\n",
      "Validation accuracy: 85.5%\n",
      "Minibatch loss at step 2500: 0.369534\n",
      "Minibatch accuracy: 87.5%\n",
      "Validation accuracy: 86.1%\n",
      "Minibatch loss at step 3000: 0.479856\n",
      "Minibatch accuracy: 87.5%\n",
      "Validation accuracy: 86.3%\n",
      "Minibatch loss at step 3500: 0.480830\n",
      "Minibatch accuracy: 86.7%\n",
      "Validation accuracy: 86.8%\n",
      "Minibatch loss at step 4000: 0.377694\n",
      "Minibatch accuracy: 89.1%\n",
      "Validation accuracy: 86.9%\n",
      "Minibatch loss at step 4500: 0.396397\n",
      "Minibatch accuracy: 88.3%\n",
      "Validation accuracy: 87.0%\n",
      "Minibatch loss at step 5000: 0.370359\n",
      "Minibatch accuracy: 88.3%\n",
      "Validation accuracy: 87.0%\n",
      "Test accuracy: 93.3%\n"
     ]
    }
   ],
   "source": [
    "num_steps = 5001\n",
    "\n",
    "# def encoding_accuracy(pred, labels):\n",
    "#     return 100.0 * sum([np.array_equal(pred[i],labels[i]) for i in xrange(len(labels))]) / len(labels)\n",
    "\n",
    "def accuracy(predictions, labels):\n",
    "  return (100.0 * np.sum(np.argmax(predictions, 1) == np.argmax(labels, 1))\n",
    "          / predictions.shape[0])\n",
    "\n",
    "with tf.Session(graph=graph) as session:\n",
    "  tf.initialize_all_variables().run()\n",
    "  print(\"Initialized\")\n",
    "  # ae training \n",
    "  for step in range(num_steps):\n",
    "    offset = (step * batch_size) % (train_dataset.shape[0] - batch_size)\n",
    "    # Generate a minibatch.\n",
    "    batch_data = train_dataset[offset:(offset + batch_size), :]\n",
    "    # Prepare a dictionary telling the session where to feed the minibatch.\n",
    "    feed_dict = {tf_train_dataset : batch_data}\n",
    "    _, l, predictions = session.run(\n",
    "      [ae_optimizer, autoencoder_loss, encoded], feed_dict=feed_dict)\n",
    "    if (step % 500 == 0):\n",
    "      print(\"Minibatch loss at step %d: %f\" % (step, l))\n",
    "\n",
    "  # classifier training\n",
    "  for step in range(num_steps):\n",
    "    offset = (step * batch_size) % (train_dataset.shape[0] - batch_size)\n",
    "    # Generate a minibatch.\n",
    "    batch_data = train_dataset[offset:(offset + batch_size), :]\n",
    "    batch_labels = train_labels[offset:(offset + batch_size), :]\n",
    "    # Prepare a dictionary telling the session where to feed the minibatch.\n",
    "    feed_dict = {tf_train_dataset : batch_data, tf_train_labels: batch_labels}\n",
    "    _, l, predictions = session.run(\n",
    "      [cl_optimizer, classify_loss, train_prediction], feed_dict=feed_dict)\n",
    "    if (step % 500 == 0):\n",
    "      print(\"Minibatch loss at step %d: %f\" % (step, l))\n",
    "      print(\"Minibatch accuracy: %.1f%%\" % accuracy(predictions, batch_labels))\n",
    "      print(\"Validation accuracy: %.1f%%\" % accuracy(\n",
    "        valid_prediction.eval(), valid_labels))\n",
    "  print(\"Test accuracy: %.1f%%\" % accuracy(test_prediction.eval(), test_labels))"
   ]
  },
  {
   "cell_type": "code",
   "execution_count": null,
   "metadata": {
    "collapsed": true
   },
   "outputs": [],
   "source": []
  }
 ],
 "metadata": {
  "kernelspec": {
   "display_name": "Python 2",
   "language": "python",
   "name": "python2"
  },
  "language_info": {
   "codemirror_mode": {
    "name": "ipython",
    "version": 2
   },
   "file_extension": ".py",
   "mimetype": "text/x-python",
   "name": "python",
   "nbconvert_exporter": "python",
   "pygments_lexer": "ipython2",
   "version": "2.7.10"
  }
 },
 "nbformat": 4,
 "nbformat_minor": 0
}
