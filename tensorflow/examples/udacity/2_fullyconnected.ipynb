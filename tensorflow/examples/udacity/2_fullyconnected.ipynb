{
 "cells": [
  {
   "cell_type": "markdown",
   "metadata": {
    "colab_type": "text",
    "id": "kR-4eNdK6lYS"
   },
   "source": [
    "Deep Learning\n",
    "=============\n",
    "\n",
    "Assignment 2\n",
    "------------\n",
    "\n",
    "Previously in `1_notmnist.ipynb`, we created a pickle with formatted datasets for training, development and testing on the [notMNIST dataset](http://yaroslavvb.blogspot.com/2011/09/notmnist-dataset.html).\n",
    "\n",
    "The goal of this assignment is to progressively train deeper and more accurate models using TensorFlow."
   ]
  },
  {
   "cell_type": "code",
   "execution_count": 24,
   "metadata": {
    "cellView": "both",
    "colab": {
     "autoexec": {
      "startup": false,
      "wait_interval": 0
     }
    },
    "colab_type": "code",
    "collapsed": true,
    "id": "JLpLa8Jt7Vu4"
   },
   "outputs": [],
   "source": [
    "# These are all the modules we'll be using later. Make sure you can import them\n",
    "# before proceeding further.\n",
    "from __future__ import print_function\n",
    "import numpy as np\n",
    "import tensorflow as tf\n",
    "from six.moves import cPickle as pickle\n",
    "from six.moves import range"
   ]
  },
  {
   "cell_type": "markdown",
   "metadata": {
    "colab_type": "text",
    "id": "1HrCK6e17WzV"
   },
   "source": [
    "First reload the data we generated in `1_notmnist.ipynb`."
   ]
  },
  {
   "cell_type": "code",
   "execution_count": 41,
   "metadata": {
    "cellView": "both",
    "colab": {
     "autoexec": {
      "startup": false,
      "wait_interval": 0
     },
     "output_extras": [
      {
       "item_id": 1
      }
     ]
    },
    "colab_type": "code",
    "collapsed": false,
    "executionInfo": {
     "elapsed": 19456,
     "status": "ok",
     "timestamp": 1449847956073,
     "user": {
      "color": "",
      "displayName": "",
      "isAnonymous": false,
      "isMe": true,
      "permissionId": "",
      "photoUrl": "",
      "sessionId": "0",
      "userId": ""
     },
     "user_tz": 480
    },
    "id": "y3-cj1bpmuxc",
    "outputId": "0ddb1607-1fc4-4ddb-de28-6c7ab7fb0c33"
   },
   "outputs": [
    {
     "name": "stdout",
     "output_type": "stream",
     "text": [
      "Training set (200000, 28, 28) (200000,)\n",
      "Validation set (10000, 28, 28) (10000,)\n",
      "Test set (10000, 28, 28) (10000,)\n"
     ]
    }
   ],
   "source": [
    "pickle_file = 'notMNIST.pickle'\n",
    "\n",
    "with open(pickle_file, 'rb') as f:\n",
    "  save = pickle.load(f)\n",
    "  train_dataset = save['train_dataset']\n",
    "  train_labels = save['train_labels']\n",
    "  valid_dataset = save['valid_dataset']\n",
    "  valid_labels = save['valid_labels']\n",
    "  test_dataset = save['test_dataset']\n",
    "  test_labels = save['test_labels']\n",
    "  del save  # hint to help gc free up memory\n",
    "  print('Training set', train_dataset.shape, train_labels.shape)\n",
    "  print('Validation set', valid_dataset.shape, valid_labels.shape)\n",
    "  print('Test set', test_dataset.shape, test_labels.shape)"
   ]
  },
  {
   "cell_type": "markdown",
   "metadata": {
    "colab_type": "text",
    "id": "L7aHrm6nGDMB"
   },
   "source": [
    "Reformat into a shape that's more adapted to the models we're going to train:\n",
    "- data as a flat matrix,\n",
    "- labels as float 1-hot encodings."
   ]
  },
  {
   "cell_type": "code",
   "execution_count": 42,
   "metadata": {
    "cellView": "both",
    "colab": {
     "autoexec": {
      "startup": false,
      "wait_interval": 0
     },
     "output_extras": [
      {
       "item_id": 1
      }
     ]
    },
    "colab_type": "code",
    "collapsed": false,
    "executionInfo": {
     "elapsed": 19723,
     "status": "ok",
     "timestamp": 1449847956364,
     "user": {
      "color": "",
      "displayName": "",
      "isAnonymous": false,
      "isMe": true,
      "permissionId": "",
      "photoUrl": "",
      "sessionId": "0",
      "userId": ""
     },
     "user_tz": 480
    },
    "id": "IRSyYiIIGIzS",
    "outputId": "2ba0fc75-1487-4ace-a562-cf81cae82793"
   },
   "outputs": [
    {
     "name": "stdout",
     "output_type": "stream",
     "text": [
      "Training set (200000, 784) (200000, 10)\n",
      "Validation set (10000, 784) (10000, 10)\n",
      "Test set (10000, 784) (10000, 10)\n"
     ]
    }
   ],
   "source": [
    "image_size = 28\n",
    "num_labels = 10\n",
    "\n",
    "def reformat(dataset, labels):\n",
    "  dataset = dataset.reshape((-1, image_size * image_size)).astype(np.float32)\n",
    "  # Map 0 to [1.0, 0.0, 0.0 ...], 1 to [0.0, 1.0, 0.0 ...]\n",
    "  # One Hot encoding\n",
    "  labels = (np.arange(num_labels) == labels[:,None]).astype(np.float32)\n",
    "  return dataset, labels\n",
    "train_dataset, train_labels = reformat(train_dataset, train_labels)\n",
    "valid_dataset, valid_labels = reformat(valid_dataset, valid_labels)\n",
    "test_dataset, test_labels = reformat(test_dataset, test_labels)\n",
    "print('Training set', train_dataset.shape, train_labels.shape)\n",
    "print('Validation set', valid_dataset.shape, valid_labels.shape)\n",
    "print('Test set', test_dataset.shape, test_labels.shape)"
   ]
  },
  {
   "cell_type": "code",
   "execution_count": 22,
   "metadata": {
    "collapsed": false
   },
   "outputs": [
    {
     "name": "stdout",
     "output_type": "stream",
     "text": [
      "[-0.5        -0.49607843 -0.5        -0.42156863  0.31568629  0.46470588\n",
      " -0.30784315 -0.17058824  0.5         0.19803922 -0.46470588  0.20980392\n",
      "  0.5        -0.23333333 -0.22941177  0.5         0.20980392 -0.46078432\n",
      "  0.20980392  0.5        -0.21372549 -0.43333334  0.37058824  0.40980393\n",
      " -0.33529413 -0.5        -0.49215686 -0.5        -0.49607843 -0.47647059\n",
      " -0.5        -0.19803922  0.5         0.5         0.01764706  0.16666667\n",
      "  0.5         0.44901961 -0.13921569  0.45294118  0.5         0.09607843\n",
      "  0.09607843  0.5         0.45294118 -0.13529412  0.45294118  0.5\n",
      "  0.08431373 -0.19019608  0.5         0.5        -0.04901961 -0.5\n",
      " -0.47254902 -0.49607843 -0.49607843 -0.49607843 -0.5        -0.43333334\n",
      "  0.19019608  0.31960785 -0.3392157  -0.22156863  0.36666667  0.09215686\n",
      " -0.48039216  0.12352941  0.40196079 -0.2764706  -0.2764706   0.40196079\n",
      "  0.12352941 -0.47647059  0.10392157  0.35490197 -0.25686276 -0.44509804\n",
      "  0.2372549   0.27254903 -0.35882354 -0.5        -0.49607843 -0.49607843\n",
      " -0.45686275 -0.28039217 -0.43333334 -0.5        -0.37058824 -0.31176472\n",
      " -0.5        -0.49215686 -0.28431374 -0.4137255  -0.5        -0.49607843\n",
      " -0.49215686 -0.5        -0.5        -0.49215686 -0.49607843 -0.5\n",
      " -0.40980393 -0.29215688 -0.49607843 -0.5        -0.35490197 -0.33137256\n",
      " -0.5        -0.45686275 -0.28039217 -0.44117647  0.19411765  0.5\n",
      "  0.20588236 -0.32352942  0.44117647  0.5        -0.16666667 -0.01764706\n",
      "  0.5         0.35490197 -0.41764706 -0.5        -0.49215686 -0.49215686\n",
      " -0.49215686 -0.49215686 -0.5        -0.4137255   0.36274511  0.5\n",
      " -0.07647059 -0.33529413  0.48823529  0.5        -0.24117647  0.1         0.5\n",
      "  0.25294119  0.37058824  0.5         0.34313726 -0.15882353  0.5         0.5\n",
      " -0.00588235  0.13921569  0.5         0.47647059 -0.3392157  -0.5\n",
      " -0.48823529 -0.5        -0.5        -0.48823529 -0.5        -0.33529413\n",
      "  0.47647059  0.5         0.06078431 -0.21764706  0.5         0.5\n",
      " -0.08039216  0.24117647  0.5         0.42156863 -0.31960785  0.07647059\n",
      " -0.2764706  -0.5        -0.1         0.01764706 -0.47647059 -0.40980393\n",
      "  0.06862745 -0.19019608 -0.5        -0.49607843 -0.5        -0.5        -0.5\n",
      " -0.5        -0.49607843 -0.5        -0.13137256  0.10392157 -0.39411765\n",
      " -0.5        -0.06078431 -0.01764706 -0.5        -0.33137256  0.07647059\n",
      " -0.2764706  -0.21372549  0.19803922 -0.17058824 -0.5         0.0254902\n",
      "  0.14705883 -0.42156863 -0.33137256  0.19019608 -0.07254902 -0.5\n",
      " -0.49607843 -0.5        -0.5        -0.5        -0.5        -0.5        -0.5\n",
      " -0.5        -0.49607843 -0.5        -0.46470588  0.05686275  0.10784314\n",
      " -0.46862745 -0.24509804  0.19803922 -0.16666667  0.38235295  0.5\n",
      "  0.3509804  -0.14313726  0.5         0.5         0.00980392  0.1627451\n",
      "  0.5         0.48823529 -0.32745099 -0.5        -0.48039216 -0.5        -0.5\n",
      " -0.48823529 -0.49215686 -0.5        -0.48823529 -0.46862745 -0.5\n",
      " -0.13921569  0.5         0.5        -0.05294118  0.26078433  0.5\n",
      "  0.44117647  0.06470589  0.45686275  0.0882353  -0.39019608  0.30784315\n",
      "  0.4254902  -0.25294119 -0.12352941  0.46078432  0.21764706 -0.45294118\n",
      " -0.5        -0.49607843 -0.49607843 -0.49607843 -0.5        -0.5\n",
      " -0.49607843 -0.5        -0.49215686 -0.5        -0.34705883  0.38235295\n",
      "  0.43333334 -0.32745099  0.00196078  0.5         0.13921569 -0.42941177\n",
      " -0.11176471 -0.39411765 -0.5        -0.26078433 -0.1627451  -0.5\n",
      " -0.48039216 -0.12352941 -0.33137256 -0.5        -0.35490197 -0.22941177\n",
      " -0.48823529 -0.48823529 -0.22941177 -0.36274511 -0.5        -0.49607843\n",
      " -0.5        -0.5        -0.5        -0.43333334 -0.42156863 -0.5\n",
      " -0.48823529 -0.39803922 -0.48039216  0.24117647  0.5         0.24117647\n",
      " -0.28823531  0.46078432  0.5        -0.13137256  0.01764706  0.5\n",
      "  0.36274511 -0.30784315  0.36666667  0.5        -0.05686275 -0.05686275\n",
      "  0.5         0.39019608 -0.40196079 -0.5        -0.49215686 -0.5\n",
      " -0.49607843 -0.49607843 -0.5        -0.49215686 -0.49607843 -0.5\n",
      " -0.49215686  0.36274511  0.5         0.33137256 -0.17843138  0.5         0.5\n",
      " -0.01372549  0.12352941  0.5         0.43333334 -0.19019608  0.43725491\n",
      "  0.5         0.05294118  0.05686275  0.5         0.47254902 -0.34313726\n",
      " -0.5        -0.49215686 -0.5        -0.5        -0.49607843 -0.49607843\n",
      " -0.5        -0.5        -0.49215686 -0.5        -0.35882354  0.0254902\n",
      " -0.30784315 -0.5        -0.14705883 -0.03333334 -0.49215686 -0.42941177\n",
      "  0.01372549 -0.22941177 -0.5        -0.21764706  0.00196078 -0.45294118\n",
      " -0.45294118  0.00196078 -0.22156863 -0.5        -0.49607843 -0.5        -0.5\n",
      " -0.5        -0.5        -0.5        -0.5        -0.5        -0.5        -0.5\n",
      " -0.1509804   0.26078433 -0.11176471 -0.48823529  0.09215686  0.21372549\n",
      " -0.38627452 -0.28431374  0.25686276 -0.00588235 -0.5         0.00588235\n",
      "  0.24901961 -0.33137256 -0.32745099  0.24901961  0.00588235 -0.5        -0.5\n",
      " -0.5        -0.5        -0.5        -0.5        -0.5        -0.5        -0.5\n",
      " -0.5        -0.5         0.38627452  0.5         0.3509804  -0.13921569\n",
      "  0.5         0.5         0.01764706  0.1627451   0.5         0.44901961\n",
      " -0.13921569  0.45294118  0.5         0.09607843  0.09607843  0.5\n",
      "  0.49215686 -0.31960785 -0.5        -0.49215686 -0.5        -0.5\n",
      " -0.49607843 -0.49607843 -0.5        -0.5        -0.49215686 -0.5\n",
      "  0.02156863  0.44901961  0.05294118 -0.42156863  0.28431374  0.40588236\n",
      " -0.28823531 -0.15882353  0.44901961  0.17450981 -0.44117647  0.19411765\n",
      "  0.46862745 -0.2254902  -0.22156863  0.46470588  0.19803922 -0.47254902\n",
      " -0.5        -0.49607843 -0.5        -0.49607843 -0.49607843 -0.5\n",
      " -0.49215686 -0.49607843 -0.5        -0.49215686 -0.48431373 -0.3392157\n",
      " -0.46470588 -0.5        -0.40980393 -0.36666667 -0.5        -0.5\n",
      " -0.34705883 -0.44509804 -0.5        -0.47647059 -0.44901961 -0.5        -0.5\n",
      " -0.44901961 -0.48039216 -0.5        -0.5        -0.5        -0.5        -0.5\n",
      " -0.43333334 -0.42156863 -0.5        -0.48823529 -0.39803922 -0.48039216\n",
      "  0.08431373  0.5         0.10784314 -0.39019608  0.34313726  0.46470588\n",
      " -0.24509804 -0.11176471  0.5         0.24509804 -0.45294118 -0.5\n",
      " -0.49607843 -0.49607843 -0.49607843 -0.5        -0.49215686 -0.49607843\n",
      " -0.5        -0.49215686 -0.5        -0.34705883  0.38235295  0.43333334\n",
      " -0.32352942  0.00588235  0.5         0.13921569  0.38235295  0.5\n",
      "  0.3509804  -0.14313726  0.5         0.5         0.00980392  0.1627451\n",
      "  0.5         0.48823529 -0.32745099 -0.5        -0.48823529 -0.5        -0.5\n",
      " -0.49607843 -0.5        -0.5        -0.48823529 -0.46862745 -0.5\n",
      " -0.13921569  0.5         0.5        -0.05294118  0.26078433  0.5\n",
      "  0.44117647 -0.21764706  0.19803922 -0.17058824 -0.5         0.0254902\n",
      "  0.14705883 -0.4254902  -0.33529413  0.19019608 -0.07254902 -0.5\n",
      " -0.49607843 -0.5        -0.5        -0.5        -0.5        -0.5        -0.5\n",
      " -0.5        -0.49607843 -0.5        -0.46470588  0.05686275  0.10784314\n",
      " -0.47254902 -0.24509804  0.20196079 -0.16666667 -0.31960785  0.07254902\n",
      " -0.2764706  -0.5        -0.1         0.01764706 -0.47647059 -0.40980393\n",
      "  0.06470589 -0.19019608 -0.5        -0.49607843 -0.5        -0.5        -0.5\n",
      " -0.5        -0.49607843 -0.5        -0.13137256  0.1        -0.39803922\n",
      " -0.5        -0.06470589 -0.02156863 -0.5        -0.33137256  0.07254902\n",
      " -0.28039217  0.37058824  0.5         0.34313726 -0.15882353  0.5         0.5\n",
      " -0.00588235  0.13921569  0.5         0.47647059 -0.3392157  -0.5\n",
      " -0.48431373 -0.5        -0.5        -0.48431373 -0.5        -0.33529413\n",
      "  0.48039216  0.5         0.06078431 -0.21764706  0.5         0.5\n",
      " -0.08039216  0.24117647  0.5         0.42156863  0.19411765  0.5\n",
      "  0.20588236 -0.31960785  0.4254902   0.5        -0.1627451  -0.02156863\n",
      "  0.5         0.34313726 -0.4137255  -0.5        -0.49607843 -0.49607843\n",
      " -0.49607843 -0.49607843 -0.5        -0.40980393  0.34705883  0.5\n",
      " -0.07647059 -0.33137256  0.46862745  0.49215686 -0.24117647  0.1         0.5\n",
      "  0.25686276 -0.45686275 -0.2764706  -0.42941177 -0.5        -0.28039217\n",
      " -0.18235295 -0.5        -0.48431373 -0.14313726 -0.34313726 -0.5\n",
      " -0.43333334 -0.36274511 -0.5        -0.5        -0.36274511 -0.43333334\n",
      " -0.5        -0.33529413 -0.15490197 -0.48823529 -0.5        -0.24901961\n",
      " -0.21372549 -0.5        -0.45686275 -0.2764706  -0.44117647 -0.49607843\n",
      " -0.49215686 -0.5        -0.35490197  0.35882354  0.46470588 -0.21372549\n",
      " -0.07647059  0.5         0.26078433 -0.37843138  0.28823531  0.5\n",
      " -0.14313726 -0.13921569  0.5         0.28431374 -0.37450981  0.26862746\n",
      "  0.49607843 -0.12745099 -0.36274511  0.40588236  0.42941177 -0.25294119\n",
      " -0.5        -0.49215686 -0.49607843 -0.49607843 -0.47647059 -0.5\n",
      " -0.20588236  0.5         0.5         0.00196078  0.14705883  0.5\n",
      "  0.44117647 -0.1627451   0.44509804  0.5         0.07647059  0.07647059\n",
      "  0.5         0.44509804 -0.15882353  0.44509804  0.5         0.07254902\n",
      " -0.20588236  0.5         0.5        -0.06862745 -0.5        -0.47254902\n",
      " -0.49607843 -0.5        -0.49607843 -0.5        -0.48823529  0.05294118\n",
      "  0.19411765 -0.42941177 -0.33137256  0.24901961 -0.04509804 -0.5\n",
      " -0.03333334  0.24117647 -0.37843138 -0.37843138  0.24117647 -0.03333334\n",
      " -0.5        -0.03333334  0.23333333 -0.35882354 -0.5         0.10392157\n",
      "  0.14705883 -0.44509804 -0.5        -0.49607843 -0.5       ]\n"
     ]
    }
   ],
   "source": [
    "print(train_dataset[0])"
   ]
  },
  {
   "cell_type": "markdown",
   "metadata": {
    "colab_type": "text",
    "id": "nCLVqyQ5vPPH"
   },
   "source": [
    "We're first going to train a multinomial logistic regression using simple gradient descent.\n",
    "\n",
    "TensorFlow works like this:\n",
    "* First you describe the computation that you want to see performed: what the inputs, the variables, and the operations look like. These get created as nodes over a computation graph. This description is all contained within the block below:\n",
    "\n",
    "      with graph.as_default():\n",
    "          ...\n",
    "\n",
    "* Then you can run the operations on this graph as many times as you want by calling `session.run()`, providing it outputs to fetch from the graph that get returned. This runtime operation is all contained in the block below:\n",
    "\n",
    "      with tf.Session(graph=graph) as session:\n",
    "          ...\n",
    "\n",
    "Let's load all the data into TensorFlow and build the computation graph corresponding to our training:"
   ]
  },
  {
   "cell_type": "code",
   "execution_count": 4,
   "metadata": {
    "cellView": "both",
    "colab": {
     "autoexec": {
      "startup": false,
      "wait_interval": 0
     }
    },
    "colab_type": "code",
    "collapsed": true,
    "id": "Nfv39qvtvOl_"
   },
   "outputs": [],
   "source": [
    "# With gradient descent training, even this much data is prohibitive.\n",
    "# Subset the training data for faster turnaround.\n",
    "train_subset = 10000\n",
    "\n",
    "graph = tf.Graph()\n",
    "with graph.as_default():\n",
    "\n",
    "  # Input data.\n",
    "  tf_train_dataset = tf.constant(train_dataset[:train_subset, :])\n",
    "  tf_train_labels = tf.constant(train_labels[:train_subset])\n",
    "  tf_valid_dataset = tf.constant(valid_dataset)\n",
    "  tf_test_dataset = tf.constant(test_dataset)\n",
    "  \n",
    "  # Variables.\n",
    "  weights = tf.Variable(\n",
    "    tf.truncated_normal([image_size * image_size, num_labels]))\n",
    "  biases = tf.Variable(tf.zeros([num_labels]))\n",
    "  \n",
    "  # Training computation.\n",
    "  logits = tf.matmul(tf_train_dataset, weights) + biases\n",
    "  loss = tf.reduce_mean(\n",
    "    tf.nn.softmax_cross_entropy_with_logits(logits, tf_train_labels))\n",
    "  \n",
    "  # Optimizer.\n",
    "  optimizer = tf.train.GradientDescentOptimizer(0.5).minimize(loss)\n",
    "  \n",
    "  # Predictions for the training, validation, and test data.\n",
    "  train_prediction = tf.nn.softmax(logits)\n",
    "  valid_prediction = tf.nn.softmax(\n",
    "    tf.matmul(tf_valid_dataset, weights) + biases)\n",
    "  test_prediction = tf.nn.softmax(tf.matmul(tf_test_dataset, weights) + biases)"
   ]
  },
  {
   "cell_type": "markdown",
   "metadata": {
    "colab_type": "text",
    "id": "KQcL4uqISHjP"
   },
   "source": [
    "Let's run this computation and iterate:"
   ]
  },
  {
   "cell_type": "code",
   "execution_count": 17,
   "metadata": {
    "cellView": "both",
    "colab": {
     "autoexec": {
      "startup": false,
      "wait_interval": 0
     },
     "output_extras": [
      {
       "item_id": 9
      }
     ]
    },
    "colab_type": "code",
    "collapsed": false,
    "executionInfo": {
     "elapsed": 57454,
     "status": "ok",
     "timestamp": 1449847994134,
     "user": {
      "color": "",
      "displayName": "",
      "isAnonymous": false,
      "isMe": true,
      "permissionId": "",
      "photoUrl": "",
      "sessionId": "0",
      "userId": ""
     },
     "user_tz": 480
    },
    "id": "z2cjdenH869W",
    "outputId": "4c037ba1-b526-4d8e-e632-91e2a0333267"
   },
   "outputs": [
    {
     "name": "stdout",
     "output_type": "stream",
     "text": [
      "Initialized\n"
     ]
    },
    {
     "ename": "ValueError",
     "evalue": "Fetch argument <tensorflow.python.framework.ops.Operation object at 0x143343ed0> of <tensorflow.python.framework.ops.Operation object at 0x143343ed0> cannot be interpreted as a Tensor. (Operation name: \"GradientDescent\"\nop: \"NoOp\"\ninput: \"^GradientDescent/update_Variable/ApplyGradientDescent\"\ninput: \"^GradientDescent/update_Variable_1/ApplyGradientDescent\"\ninput: \"^GradientDescent/update_Variable_2/ApplyGradientDescent\"\ninput: \"^GradientDescent/update_Variable_3/ApplyGradientDescent\"\n is not an element of this graph.)",
     "output_type": "error",
     "traceback": [
      "\u001b[0;31m---------------------------------------------------------------------------\u001b[0m",
      "\u001b[0;31mValueError\u001b[0m                                Traceback (most recent call last)",
      "\u001b[0;32m<ipython-input-17-c54ea10d4c62>\u001b[0m in \u001b[0;36m<module>\u001b[0;34m()\u001b[0m\n\u001b[1;32m      9\u001b[0m   \u001b[0;32mprint\u001b[0m\u001b[0;34m(\u001b[0m\u001b[0;34m'Initialized'\u001b[0m\u001b[0;34m)\u001b[0m\u001b[0;34m\u001b[0m\u001b[0m\n\u001b[1;32m     10\u001b[0m   \u001b[0;32mfor\u001b[0m \u001b[0mstep\u001b[0m \u001b[0;32min\u001b[0m \u001b[0mrange\u001b[0m\u001b[0;34m(\u001b[0m\u001b[0mnum_steps\u001b[0m\u001b[0;34m)\u001b[0m\u001b[0;34m:\u001b[0m\u001b[0;34m\u001b[0m\u001b[0m\n\u001b[0;32m---> 11\u001b[0;31m     \u001b[0m_\u001b[0m\u001b[0;34m,\u001b[0m \u001b[0ml\u001b[0m\u001b[0;34m,\u001b[0m \u001b[0mpredictions\u001b[0m \u001b[0;34m=\u001b[0m \u001b[0msession\u001b[0m\u001b[0;34m.\u001b[0m\u001b[0mrun\u001b[0m\u001b[0;34m(\u001b[0m\u001b[0;34m[\u001b[0m\u001b[0moptimizer\u001b[0m\u001b[0;34m,\u001b[0m \u001b[0mloss\u001b[0m\u001b[0;34m,\u001b[0m \u001b[0mtrain_prediction\u001b[0m\u001b[0;34m]\u001b[0m\u001b[0;34m)\u001b[0m\u001b[0;34m\u001b[0m\u001b[0m\n\u001b[0m\u001b[1;32m     12\u001b[0m     \u001b[0;32mif\u001b[0m \u001b[0;34m(\u001b[0m\u001b[0mstep\u001b[0m \u001b[0;34m%\u001b[0m \u001b[0;36m100\u001b[0m \u001b[0;34m==\u001b[0m \u001b[0;36m0\u001b[0m\u001b[0;34m)\u001b[0m\u001b[0;34m:\u001b[0m\u001b[0;34m\u001b[0m\u001b[0m\n\u001b[1;32m     13\u001b[0m       \u001b[0;32mprint\u001b[0m\u001b[0;34m(\u001b[0m\u001b[0;34m'Loss at step %d: %f'\u001b[0m \u001b[0;34m%\u001b[0m \u001b[0;34m(\u001b[0m\u001b[0mstep\u001b[0m\u001b[0;34m,\u001b[0m \u001b[0ml\u001b[0m\u001b[0;34m)\u001b[0m\u001b[0;34m)\u001b[0m\u001b[0;34m\u001b[0m\u001b[0m\n",
      "\u001b[0;32m/Users/AlanYAN/anaconda/lib/python2.7/site-packages/tensorflow/python/client/session.pyc\u001b[0m in \u001b[0;36mrun\u001b[0;34m(self, fetches, feed_dict)\u001b[0m\n\u001b[1;32m    313\u001b[0m         \u001b[0;34m`\u001b[0m\u001b[0mTensor\u001b[0m\u001b[0;34m`\u001b[0m \u001b[0mthat\u001b[0m \u001b[0mdoesn\u001b[0m\u001b[0;31m'\u001b[0m\u001b[0mt\u001b[0m \u001b[0mexist\u001b[0m\u001b[0;34m.\u001b[0m\u001b[0;34m\u001b[0m\u001b[0m\n\u001b[1;32m    314\u001b[0m     \"\"\"\n\u001b[0;32m--> 315\u001b[0;31m     \u001b[0;32mreturn\u001b[0m \u001b[0mself\u001b[0m\u001b[0;34m.\u001b[0m\u001b[0m_run\u001b[0m\u001b[0;34m(\u001b[0m\u001b[0mNone\u001b[0m\u001b[0;34m,\u001b[0m \u001b[0mfetches\u001b[0m\u001b[0;34m,\u001b[0m \u001b[0mfeed_dict\u001b[0m\u001b[0;34m)\u001b[0m\u001b[0;34m\u001b[0m\u001b[0m\n\u001b[0m\u001b[1;32m    316\u001b[0m \u001b[0;34m\u001b[0m\u001b[0m\n\u001b[1;32m    317\u001b[0m   \u001b[0;32mdef\u001b[0m \u001b[0mpartial_run\u001b[0m\u001b[0;34m(\u001b[0m\u001b[0mself\u001b[0m\u001b[0;34m,\u001b[0m \u001b[0mhandle\u001b[0m\u001b[0;34m,\u001b[0m \u001b[0mfetches\u001b[0m\u001b[0;34m,\u001b[0m \u001b[0mfeed_dict\u001b[0m\u001b[0;34m=\u001b[0m\u001b[0mNone\u001b[0m\u001b[0;34m)\u001b[0m\u001b[0;34m:\u001b[0m\u001b[0;34m\u001b[0m\u001b[0m\n",
      "\u001b[0;32m/Users/AlanYAN/anaconda/lib/python2.7/site-packages/tensorflow/python/client/session.pyc\u001b[0m in \u001b[0;36m_run\u001b[0;34m(self, handle, fetches, feed_dict)\u001b[0m\n\u001b[1;32m    477\u001b[0m \u001b[0;34m\u001b[0m\u001b[0m\n\u001b[1;32m    478\u001b[0m     \u001b[0;31m# Validate and process fetches.\u001b[0m\u001b[0;34m\u001b[0m\u001b[0;34m\u001b[0m\u001b[0m\n\u001b[0;32m--> 479\u001b[0;31m     \u001b[0munique_fetches\u001b[0m\u001b[0;34m,\u001b[0m \u001b[0mtarget_list\u001b[0m\u001b[0;34m,\u001b[0m \u001b[0mfetch_info\u001b[0m \u001b[0;34m=\u001b[0m \u001b[0mself\u001b[0m\u001b[0;34m.\u001b[0m\u001b[0m_process_fetches\u001b[0m\u001b[0;34m(\u001b[0m\u001b[0mfetches\u001b[0m\u001b[0;34m)\u001b[0m\u001b[0;34m\u001b[0m\u001b[0m\n\u001b[0m\u001b[1;32m    480\u001b[0m \u001b[0;34m\u001b[0m\u001b[0m\n\u001b[1;32m    481\u001b[0m     \u001b[0;31m# Create request.\u001b[0m\u001b[0;34m\u001b[0m\u001b[0;34m\u001b[0m\u001b[0m\n",
      "\u001b[0;32m/Users/AlanYAN/anaconda/lib/python2.7/site-packages/tensorflow/python/client/session.pyc\u001b[0m in \u001b[0;36m_process_fetches\u001b[0;34m(self, fetches)\u001b[0m\n\u001b[1;32m    450\u001b[0m         \u001b[0;32mexcept\u001b[0m \u001b[0mValueError\u001b[0m \u001b[0;32mas\u001b[0m \u001b[0me\u001b[0m\u001b[0;34m:\u001b[0m\u001b[0;34m\u001b[0m\u001b[0m\n\u001b[1;32m    451\u001b[0m           raise ValueError('Fetch argument %r of %r cannot be interpreted as a '\n\u001b[0;32m--> 452\u001b[0;31m                            'Tensor. (%s)' % (subfetch, fetch, str(e)))\n\u001b[0m\u001b[1;32m    453\u001b[0m         \u001b[0;32mexcept\u001b[0m \u001b[0mKeyError\u001b[0m \u001b[0;32mas\u001b[0m \u001b[0me\u001b[0m\u001b[0;34m:\u001b[0m\u001b[0;34m\u001b[0m\u001b[0m\n\u001b[1;32m    454\u001b[0m           raise ValueError('Fetch argument %r of %r cannot be interpreted as a '\n",
      "\u001b[0;31mValueError\u001b[0m: Fetch argument <tensorflow.python.framework.ops.Operation object at 0x143343ed0> of <tensorflow.python.framework.ops.Operation object at 0x143343ed0> cannot be interpreted as a Tensor. (Operation name: \"GradientDescent\"\nop: \"NoOp\"\ninput: \"^GradientDescent/update_Variable/ApplyGradientDescent\"\ninput: \"^GradientDescent/update_Variable_1/ApplyGradientDescent\"\ninput: \"^GradientDescent/update_Variable_2/ApplyGradientDescent\"\ninput: \"^GradientDescent/update_Variable_3/ApplyGradientDescent\"\n is not an element of this graph.)"
     ]
    }
   ],
   "source": [
    "num_steps = 801\n",
    "\n",
    "def accuracy(predictions, labels):\n",
    "  return (100.0 * np.sum(np.argmax(predictions, 1) == np.argmax(labels, 1))\n",
    "          / predictions.shape[0])\n",
    "\n",
    "with tf.Session(graph=graph) as session:\n",
    "  tf.initialize_all_variables().run()\n",
    "  print('Initialized')\n",
    "  for step in range(num_steps):\n",
    "    _, l, predictions = session.run([optimizer, loss, train_prediction])\n",
    "    if (step % 100 == 0):\n",
    "      print('Loss at step %d: %f' % (step, l))\n",
    "      print('Training accuracy: %.1f%%' % accuracy(\n",
    "        predictions, train_labels[:train_subset, :]))\n",
    "      # Calling .eval() on valid_prediction is basically like calling run(), but\n",
    "      # just to get that one numpy array. Note that it recomputes all its graph\n",
    "      # dependencies.\n",
    "      print('Validation accuracy: %.1f%%' % accuracy(\n",
    "        valid_prediction.eval(), valid_labels))\n",
    "  print('Test accuracy: %.1f%%' % accuracy(test_prediction.eval(), test_labels))"
   ]
  },
  {
   "cell_type": "markdown",
   "metadata": {
    "colab_type": "text",
    "id": "x68f-hxRGm3H"
   },
   "source": [
    "Let's now switch to stochastic gradient descent training instead, which is much faster.\n",
    "\n",
    "The graph will be similar, except that instead of holding all the training data into a constant node, we create a `Placeholder` node which will be fed actual data at every call of `session.run()`."
   ]
  },
  {
   "cell_type": "code",
   "execution_count": 6,
   "metadata": {
    "cellView": "both",
    "colab": {
     "autoexec": {
      "startup": false,
      "wait_interval": 0
     }
    },
    "colab_type": "code",
    "collapsed": true,
    "id": "qhPMzWYRGrzM"
   },
   "outputs": [],
   "source": [
    "batch_size = 128\n",
    "\n",
    "graph = tf.Graph()\n",
    "with graph.as_default():\n",
    "\n",
    "  # Input data. \n",
    "  tf_train_dataset = tf.placeholder(tf.float32,shape=(batch_size, image_size * image_size))\n",
    "  tf_train_labels = tf.placeholder(tf.float32, shape=(batch_size, num_labels))\n",
    "  tf_valid_dataset = tf.constant(valid_dataset)\n",
    "  tf_test_dataset = tf.constant(test_dataset)\n",
    "  \n",
    "  # Variables.\n",
    "  weights = tf.Variable(\n",
    "    tf.truncated_normal([image_size * image_size, num_labels]))\n",
    "  biases = tf.Variable(tf.zeros([num_labels]))\n",
    "  \n",
    "  # Training computation.\n",
    "  logits = tf.matmul(tf_train_dataset, weights) + biases\n",
    "  loss = tf.reduce_mean(\n",
    "    tf.nn.softmax_cross_entropy_with_logits(logits, tf_train_labels))\n",
    "  \n",
    "  # Optimizer.\n",
    "  optimizer = tf.train.GradientDescentOptimizer(0.5).minimize(loss)\n",
    "  \n",
    "  # Predictions for the training, validation, and test data.\n",
    "  train_prediction = tf.nn.softmax(logits)\n",
    "  valid_prediction = tf.nn.softmax(\n",
    "    tf.matmul(tf_valid_dataset, weights) + biases)\n",
    "  test_prediction = tf.nn.softmax(tf.matmul(tf_test_dataset, weights) + biases)"
   ]
  },
  {
   "cell_type": "markdown",
   "metadata": {
    "colab_type": "text",
    "id": "XmVZESmtG4JH"
   },
   "source": [
    "Let's run it:"
   ]
  },
  {
   "cell_type": "code",
   "execution_count": 7,
   "metadata": {
    "cellView": "both",
    "colab": {
     "autoexec": {
      "startup": false,
      "wait_interval": 0
     },
     "output_extras": [
      {
       "item_id": 6
      }
     ]
    },
    "colab_type": "code",
    "collapsed": false,
    "executionInfo": {
     "elapsed": 66292,
     "status": "ok",
     "timestamp": 1449848003013,
     "user": {
      "color": "",
      "displayName": "",
      "isAnonymous": false,
      "isMe": true,
      "permissionId": "",
      "photoUrl": "",
      "sessionId": "0",
      "userId": ""
     },
     "user_tz": 480
    },
    "id": "FoF91pknG_YW",
    "outputId": "d255c80e-954d-4183-ca1c-c7333ce91d0a"
   },
   "outputs": [
    {
     "name": "stdout",
     "output_type": "stream",
     "text": [
      "Initialized\n",
      "Minibatch loss at step 0: 17.649601\n",
      "Minibatch accuracy: 7.8%\n",
      "Validation accuracy: 6.5%\n",
      "Minibatch loss at step 500: 1.159378\n",
      "Minibatch accuracy: 78.9%\n",
      "Validation accuracy: 75.7%\n",
      "Minibatch loss at step 1000: 1.508133\n",
      "Minibatch accuracy: 76.6%\n",
      "Validation accuracy: 76.8%\n",
      "Minibatch loss at step 1500: 0.611867\n",
      "Minibatch accuracy: 83.6%\n",
      "Validation accuracy: 77.3%\n",
      "Minibatch loss at step 2000: 0.837573\n",
      "Minibatch accuracy: 82.0%\n",
      "Validation accuracy: 77.7%\n",
      "Minibatch loss at step 2500: 1.154386\n",
      "Minibatch accuracy: 73.4%\n",
      "Validation accuracy: 78.3%\n",
      "Minibatch loss at step 3000: 0.881322\n",
      "Minibatch accuracy: 79.7%\n",
      "Validation accuracy: 78.8%\n",
      "Test accuracy: 86.5%\n"
     ]
    }
   ],
   "source": [
    "num_steps = 3001\n",
    "\n",
    "with tf.Session(graph=graph) as session:\n",
    "  tf.initialize_all_variables().run()\n",
    "  print(\"Initialized\")\n",
    "  for step in range(num_steps):\n",
    "    offset = (step * batch_size) % (train_labels.shape[0] - batch_size)\n",
    "    # Generate a minibatch.\n",
    "    batch_data = train_dataset[offset:(offset + batch_size), :]\n",
    "    batch_labels = train_labels[offset:(offset + batch_size), :]\n",
    "    # Prepare a dictionary telling the session where to feed the minibatch.\n",
    "    # The key of the dictionary is the placeholder node of the graph to be fed,\n",
    "    # and the value is the numpy array to feed to it.\n",
    "    feed_dict = {tf_train_dataset : batch_data, tf_train_labels : batch_labels}\n",
    "    _, l, predictions = session.run(\n",
    "      [optimizer, loss, train_prediction], feed_dict=feed_dict)\n",
    "    if (step % 500 == 0):\n",
    "      print(\"Minibatch loss at step %d: %f\" % (step, l))\n",
    "      print(\"Minibatch accuracy: %.1f%%\" % accuracy(predictions, batch_labels))\n",
    "      print(\"Validation accuracy: %.1f%%\" % accuracy(\n",
    "        valid_prediction.eval(), valid_labels))\n",
    "  print(\"Test accuracy: %.1f%%\" % accuracy(test_prediction.eval(), test_labels))"
   ]
  },
  {
   "cell_type": "markdown",
   "metadata": {
    "colab_type": "text",
    "id": "7omWxtvLLxik"
   },
   "source": [
    "---\n",
    "Problem\n",
    "-------\n",
    "\n",
    "Turn the logistic regression example with SGD into a 1-hidden layer neural network with rectified linear units [nn.relu()](https://www.tensorflow.org/versions/r0.7/api_docs/python/nn.html#relu) and 1024 hidden nodes. This model should improve your validation / test accuracy.\n",
    "\n",
    "---"
   ]
  },
  {
   "cell_type": "code",
   "execution_count": 12,
   "metadata": {
    "collapsed": false
   },
   "outputs": [],
   "source": [
    "batch_size = 128\n",
    "num_hidden = 1024\n",
    "\n",
    "graph = tf.Graph()\n",
    "with graph.as_default():\n",
    "  #Inputs\n",
    "  tf_train_dataset = tf.placeholder(tf.float32,shape=(batch_size, image_size * image_size))\n",
    "  tf_train_labels = tf.placeholder(tf.float32, shape=(batch_size, num_labels))\n",
    "  tf_valid_dataset = tf.constant(valid_dataset)\n",
    "  tf_test_dataset = tf.constant(test_dataset)\n",
    "  \n",
    "  # Variables.\n",
    "  layer1_weights = tf.Variable(tf.truncated_normal([image_size * image_size, num_hidden]))\n",
    "  layer1_biases = tf.Variable(tf.zeros([num_hidden]))\n",
    "  layer2_weights = tf.Variable(tf.truncated_normal([num_hidden, num_labels]))\n",
    "  layer2_biases = tf.Variable(tf.zeros([num_labels]))\n",
    "\n",
    "  # Training computation.\n",
    "  def fp(data):\n",
    "    a1 = tf.nn.relu(tf.matmul(data, layer1_weights) + layer1_biases)\n",
    "    return tf.matmul(a1, layer2_weights) + layer2_biases\n",
    "  a2 = fp(tf_train_dataset)\n",
    "  loss = tf.reduce_mean(tf.nn.softmax_cross_entropy_with_logits(a2, tf_train_labels))\n",
    "  \n",
    "  # Optimizer.\n",
    "  optimizer = tf.train.GradientDescentOptimizer(0.5).minimize(loss)\n",
    "  \n",
    "  # Predictions for the training, validation, and test data.\n",
    "  train_prediction = tf.nn.softmax(a2)\n",
    "  valid_prediction = tf.nn.softmax(fp(tf_valid_dataset))\n",
    "  test_prediction = tf.nn.softmax(fp(tf_test_dataset))"
   ]
  },
  {
   "cell_type": "code",
   "execution_count": 13,
   "metadata": {
    "collapsed": false
   },
   "outputs": [
    {
     "name": "stdout",
     "output_type": "stream",
     "text": [
      "Initialized\n",
      "Minibatch loss at step 0: 333.092346\n",
      "Minibatch accuracy: 10.2%\n",
      "Validation accuracy: 32.0%\n",
      "Minibatch loss at step 500: 16.306318\n",
      "Minibatch accuracy: 82.8%\n",
      "Validation accuracy: 79.7%\n",
      "Minibatch loss at step 1000: 12.893785\n",
      "Minibatch accuracy: 78.9%\n",
      "Validation accuracy: 80.7%\n",
      "Minibatch loss at step 1500: 6.581551\n",
      "Minibatch accuracy: 88.3%\n",
      "Validation accuracy: 82.2%\n",
      "Minibatch loss at step 2000: 3.763221\n",
      "Minibatch accuracy: 89.8%\n",
      "Validation accuracy: 81.5%\n",
      "Minibatch loss at step 2500: 7.757624\n",
      "Minibatch accuracy: 80.5%\n",
      "Validation accuracy: 82.3%\n",
      "Minibatch loss at step 3000: 2.825783\n",
      "Minibatch accuracy: 83.6%\n",
      "Validation accuracy: 82.5%\n",
      "Test accuracy: 89.8%\n"
     ]
    }
   ],
   "source": [
    "num_steps = 3001\n",
    "\n",
    "with tf.Session(graph=graph) as session:\n",
    "  tf.initialize_all_variables().run()\n",
    "  print(\"Initialized\")\n",
    "  for step in range(num_steps):\n",
    "    # Pick an offset within the training data, which has been randomized.\n",
    "    # Note: we could use better randomization across epochs.\n",
    "    offset = (step * batch_size) % (train_labels.shape[0] - batch_size)\n",
    "    # Generate a minibatch.\n",
    "    batch_data = train_dataset[offset:(offset + batch_size), :]\n",
    "    batch_labels = train_labels[offset:(offset + batch_size), :]\n",
    "    # Prepare a dictionary telling the session where to feed the minibatch.\n",
    "    # The key of the dictionary is the placeholder node of the graph to be fed,\n",
    "    # and the value is the numpy array to feed to it.\n",
    "    feed_dict = {tf_train_dataset : batch_data, tf_train_labels : batch_labels}\n",
    "    _, l, predictions = session.run(\n",
    "      [optimizer, loss, train_prediction], feed_dict=feed_dict)\n",
    "    if (step % 500 == 0):\n",
    "      print(\"Minibatch loss at step %d: %f\" % (step, l))\n",
    "      print(\"Minibatch accuracy: %.1f%%\" % accuracy(predictions, batch_labels))\n",
    "      print(\"Validation accuracy: %.1f%%\" % accuracy(\n",
    "        valid_prediction.eval(), valid_labels))\n",
    "  print(\"Test accuracy: %.1f%%\" % accuracy(test_prediction.eval(), test_labels))"
   ]
  },
  {
   "cell_type": "code",
   "execution_count": 43,
   "metadata": {
    "collapsed": false
   },
   "outputs": [
    {
     "name": "stdout",
     "output_type": "stream",
     "text": [
      "[ 0.25        0.25        0.25        0.25        0.25        0.25588235\n",
      "  0.25        0.55196077  0.75        0.74215686  0.75        0.75        0.75\n",
      "  0.75        0.75        0.75        0.75        0.75        0.75\n",
      "  0.73235297  0.6754902   0.58137256  0.44607842  0.27941176  0.25\n",
      "  0.25588235  0.25        0.25        0.25        0.25        0.25        0.25\n",
      "  0.25        0.25        0.25        0.47941175  0.55392158  0.5892157\n",
      "  0.75        0.74803925  0.75        0.59705883  0.54215688  0.55196077\n",
      "  0.55000001  0.56568629  0.60294116  0.68333334  0.75        0.74803925\n",
      "  0.75        0.68529415  0.42647058  0.25        0.25588235  0.25        0.25\n",
      "  0.25        0.25        0.25        0.25        0.25        0.25\n",
      "  0.25588235  0.25        0.43039215  0.75        0.75        0.72058821\n",
      "  0.29117647  0.25        0.25196078  0.25        0.25        0.25\n",
      "  0.26372549  0.36764705  0.61078429  0.75        0.74607843  0.75\n",
      "  0.5147059   0.25        0.25392157  0.25        0.25        0.25        0.25\n",
      "  0.25        0.25        0.25        0.26176471  0.25        0.58529413\n",
      "  0.75        0.75        0.61274511  0.25        0.25980392  0.25784314\n",
      "  0.25784314  0.25784314  0.25588235  0.25196078  0.25196078  0.25\n",
      "  0.51666665  0.75        0.73823529  0.75        0.43431371  0.25        0.25\n",
      "  0.25        0.25        0.25        0.25        0.25        0.25196078\n",
      "  0.25        0.27745098  0.68137252  0.75        0.75        0.50294119\n",
      "  0.25        0.25784314  0.25        0.25        0.25        0.25\n",
      "  0.25196078  0.25588235  0.25392157  0.25        0.58333331  0.75        0.75\n",
      "  0.68137252  0.28333333  0.25        0.25        0.25        0.25        0.25\n",
      "  0.25        0.25392157  0.25        0.35588235  0.75        0.74607843\n",
      "  0.75        0.36960784  0.25        0.25588235  0.25        0.25        0.25\n",
      "  0.25        0.25        0.25        0.25588235  0.25        0.33431372\n",
      "  0.73627448  0.74803925  0.75        0.46176469  0.25        0.25        0.25\n",
      "  0.25        0.25        0.25        0.25784314  0.25        0.48921567\n",
      "  0.75        0.75        0.69509804  0.28529412  0.25        0.25196078\n",
      "  0.25        0.25        0.25        0.25        0.25        0.25        0.25\n",
      "  0.25588235  0.25        0.61274511  0.75        0.75        0.59117645\n",
      "  0.25        0.25        0.25        0.25        0.25        0.25\n",
      "  0.25392157  0.25        0.6009804   0.75        0.75        0.59313726\n",
      "  0.25        0.25588235  0.25        0.25        0.25        0.25        0.25\n",
      "  0.25        0.25        0.25        0.25588235  0.25        0.49705881\n",
      "  0.75        0.75        0.68529415  0.25        0.25        0.25        0.25\n",
      "  0.25        0.25196078  0.25        0.2872549   0.71078432  0.75        0.75\n",
      "  0.46568626  0.25        0.25588235  0.25        0.25        0.25        0.25\n",
      "  0.25        0.25        0.25        0.25        0.25588235  0.25\n",
      "  0.42647058  0.75        0.74803925  0.72647059  0.25        0.25        0.25\n",
      "  0.25        0.25        0.25588235  0.25        0.38921568  0.75\n",
      "  0.74803925  0.75        0.34411764  0.25        0.25392157  0.25        0.25\n",
      "  0.25        0.25        0.25        0.25        0.25        0.25\n",
      "  0.25588235  0.25        0.39509803  0.75        0.74607843  0.74019611\n",
      "  0.25        0.25        0.25        0.25        0.25        0.25784314\n",
      "  0.25        0.5147059   0.75        0.75        0.66568625  0.26372549\n",
      "  0.25        0.25196078  0.25        0.25        0.25        0.25        0.25\n",
      "  0.25        0.25        0.25        0.25588235  0.25        0.41862744\n",
      "  0.75        0.75        0.70490193  0.25        0.25        0.25        0.25\n",
      "  0.25196078  0.25        0.25        0.63627452  0.75        0.75\n",
      "  0.56372547  0.25        0.25588235  0.25        0.25        0.25        0.25\n",
      "  0.25        0.25        0.25        0.25        0.25        0.25588235\n",
      "  0.25        0.47156861  0.75        0.75        0.65980393  0.25        0.25\n",
      "  0.25        0.25        0.25196078  0.25        0.30882353  0.73039216\n",
      "  0.74803925  0.75        0.42843136  0.25        0.25588235  0.25        0.25\n",
      "  0.25        0.25        0.25        0.25        0.25        0.25        0.25\n",
      "  0.25588235  0.25        0.56176472  0.75        0.75        0.56960785\n",
      "  0.25        0.25        0.25        0.25        0.25784314  0.25\n",
      "  0.42647058  0.75        0.75        0.73039216  0.32843137  0.25\n",
      "  0.25392157  0.25        0.25        0.25        0.25        0.25        0.25\n",
      "  0.25        0.25        0.25        0.25        0.25        0.64411765\n",
      "  0.75        0.75        0.47549018  0.25        0.25        0.25        0.25\n",
      "  0.25588235  0.25        0.54019606  0.75        0.75        0.64999998\n",
      "  0.25        0.25196078  0.25        0.25        0.25        0.25        0.25\n",
      "  0.25        0.25        0.25        0.25        0.25392157  0.25\n",
      "  0.3245098   0.73431373  0.75        0.73823529  0.34607843  0.25        0.25\n",
      "  0.25        0.25        0.25        0.25392157  0.66764706  0.75        0.75\n",
      "  0.52450979  0.25        0.25588235  0.25        0.25        0.25        0.25\n",
      "  0.25        0.25        0.25        0.25        0.25        0.25588235\n",
      "  0.25        0.46764705  0.75        0.75        0.64019608  0.25588235\n",
      "  0.25        0.25        0.25        0.25392157  0.25        0.33823529\n",
      "  0.73627448  0.74803925  0.75        0.40098038  0.25        0.25588235\n",
      "  0.25        0.25        0.25        0.25        0.25        0.25        0.25\n",
      "  0.25        0.25        0.25196078  0.25        0.622549    0.75        0.75\n",
      "  0.47745097  0.25        0.25        0.25        0.25        0.25784314\n",
      "  0.25        0.45196077  0.75        0.75        0.71078432  0.29705882\n",
      "  0.25        0.25196078  0.25        0.25        0.25        0.25        0.25\n",
      "  0.25        0.25        0.25        0.25392157  0.25        0.36568627\n",
      "  0.74803925  0.75        0.71274507  0.30294117  0.25        0.25        0.25\n",
      "  0.25        0.25392157  0.25        0.57941175  0.75        0.75\n",
      "  0.62450981  0.25        0.25196078  0.25        0.25        0.25        0.25\n",
      "  0.25        0.25        0.25        0.25        0.25        0.25392157\n",
      "  0.25        0.58725488  0.75        0.75        0.52058822  0.25\n",
      "  0.25588235  0.25        0.25        0.25196078  0.25        0.26960784\n",
      "  0.68921566  0.75        0.75        0.49117646  0.25        0.25588235\n",
      "  0.25        0.25        0.25        0.25        0.25        0.25        0.25\n",
      "  0.25        0.25588235  0.25        0.3735294   0.74803925  0.75\n",
      "  0.69901961  0.29313725  0.25        0.25196078  0.25        0.25\n",
      "  0.25588235  0.25        0.36960784  0.75        0.74803925  0.75\n",
      "  0.37745097  0.25        0.25588235  0.25        0.25        0.25        0.25\n",
      "  0.25        0.25        0.25        0.25392157  0.25        0.27549019\n",
      "  0.65784311  0.75        0.75        0.4362745   0.25        0.25588235\n",
      "  0.25        0.25        0.25        0.25588235  0.25        0.47745097\n",
      "  0.75        0.75        0.69901961  0.27352941  0.25        0.25196078\n",
      "  0.25        0.25        0.25        0.25        0.25        0.25\n",
      "  0.25196078  0.25784314  0.25        0.5480392   0.75        0.75\n",
      "  0.55196077  0.25        0.25392157  0.25        0.25        0.25        0.25\n",
      "  0.25392157  0.25        0.61470586  0.75        0.75        0.58333331\n",
      "  0.25        0.25392157  0.25        0.25        0.25        0.25        0.25\n",
      "  0.25        0.25588235  0.25392157  0.25        0.49901959  0.75        0.75\n",
      "  0.60882354  0.26372549  0.25        0.25196078  0.25        0.25        0.25\n",
      "  0.25196078  0.25        0.29509804  0.70294118  0.75        0.75\n",
      "  0.46176469  0.25        0.25784314  0.25        0.25        0.25\n",
      "  0.25392157  0.25784314  0.25588235  0.25        0.25784314  0.53627449\n",
      "  0.75        0.75        0.60490197  0.27352941  0.25        0.25196078\n",
      "  0.25        0.25        0.25        0.25392157  0.26372549  0.25\n",
      "  0.38921568  0.75        0.74803925  0.74411762  0.34803921  0.25\n",
      "  0.26176471  0.25784314  0.25588235  0.25196078  0.25        0.25196078\n",
      "  0.25        0.3617647   0.64607847  0.75        0.75        0.53627449\n",
      "  0.26176471  0.25        0.25196078  0.25        0.25        0.25        0.25\n",
      "  0.25        0.25588235  0.25        0.52058822  0.75        0.75\n",
      "  0.66176474  0.25784314  0.25        0.25196078  0.25        0.25\n",
      "  0.25392157  0.30294117  0.41470587  0.60882354  0.74803925  0.75\n",
      "  0.67745101  0.40098038  0.25        0.25588235  0.25196078  0.25        0.25\n",
      "  0.25        0.25        0.25        0.40882352  0.56764704  0.53627449\n",
      "  0.6970588   0.75        0.75        0.68333334  0.54411763  0.55196077\n",
      "  0.55000001  0.56960785  0.60686272  0.65980393  0.74019611  0.75        0.75\n",
      "  0.65784311  0.45196077  0.27352941  0.25        0.25392157  0.25196078\n",
      "  0.25        0.25        0.25        0.25        0.25        0.25\n",
      "  0.61470586  0.75        0.74607843  0.75        0.75        0.75        0.75\n",
      "  0.75        0.75        0.75        0.75        0.75        0.71862745\n",
      "  0.62843138  0.5147059   0.36764705  0.25980392  0.25        0.25196078\n",
      "  0.25588235  0.25        0.25        0.25        0.25        0.25        0.25\n",
      "  0.25        0.25      ]\n"
     ]
    }
   ],
   "source": [
    "# normalizing to [0,1]\n",
    "train_dataset = (train_dataset +1)/2\n",
    "test_dataset = (test_dataset +1)/2\n",
    "valid_dataset = (valid_dataset +1)/2\n",
    "print(test_dataset[0])"
   ]
  },
  {
   "cell_type": "code",
   "execution_count": 47,
   "metadata": {
    "collapsed": false
   },
   "outputs": [],
   "source": [
    "# auto encoder \n",
    "batch_size = 128\n",
    "num_hidden = 32\n",
    "\n",
    "def encoding_accuracy(pred, labels):\n",
    "    return 100.0 * sum([np.array_equal(pred[i],labels[i]) for i in xrange(len(labels))]) / len(labels)\n",
    "# print(encoding_accuracy(test_dataset, test_dataset))\n",
    "\n",
    "def x_entropy(output, target):\n",
    "  with tf.name_scope(\"xentropy_loss\"):\n",
    "    net_output_tf = tf.convert_to_tensor(output, name='input')\n",
    "    target_tf = tf.convert_to_tensor(target, name='target')\n",
    "    cross_entropy = tf.add(tf.mul(tf.log(net_output_tf, name='log_output'),\n",
    "                                  target_tf),\n",
    "                           tf.mul(tf.log(1 - net_output_tf),\n",
    "                                  (1 - target_tf)))\n",
    "    return -1 * tf.reduce_mean(tf.reduce_sum(cross_entropy, 1),\n",
    "                                 name='xentropy_mean')\n",
    "\n",
    "graph = tf.Graph()\n",
    "with graph.as_default():\n",
    "  #Inputs\n",
    "  tf_train_dataset = tf.placeholder(tf.float32,shape=(batch_size, image_size * image_size))\n",
    "  tf_train_labels = tf.placeholder(tf.float32, shape=(batch_size, num_labels))\n",
    "  tf_valid_dataset = tf.constant(valid_dataset)\n",
    "  tf_test_dataset = tf.constant(test_dataset)\n",
    "  \n",
    "  # Variables.\n",
    "  layer1_weights = tf.Variable(tf.truncated_normal([image_size * image_size, num_hidden]))\n",
    "  layer1_biases = tf.Variable(tf.zeros([num_hidden]))\n",
    "  layer2_weights = tf.Variable(tf.truncated_normal([num_hidden, image_size * image_size]))\n",
    "  layer2_biases = tf.Variable(tf.zeros([image_size * image_size]))\n",
    "\n",
    "  classifier_weights = tf.Variable(tf.truncated_normal([num_hidden, num_labels]))\n",
    "  classifier_biases = tf.Variable(tf.zeros([num_labels]))\n",
    "\n",
    "  # Training computation.\n",
    "  def autoencode(data):\n",
    "    a1 = tf.nn.relu(tf.matmul(data, layer1_weights) + layer1_biases)\n",
    "    return tf.matmul(a1, layer2_weights) + layer2_biases\n",
    "\n",
    "  a2 = autoencode(tf_train_dataset)\n",
    "  autoencoder_loss = x_entropy(a2, tf_train_dataset)\n",
    "  \n",
    "  # Optimizer.\n",
    "  optimizer = tf.train.GradientDescentOptimizer(0.5).minimize(autoencoder_loss)\n",
    "  \n",
    "  # Predictions for the training, validation, and test data.\n",
    "  train_prediction = tf.nn.softmax(a2)\n",
    "  valid_prediction = tf.nn.softmax(autoencode(tf_valid_dataset))\n",
    "  test_prediction = tf.nn.softmax(autoencode(tf_test_dataset))"
   ]
  },
  {
   "cell_type": "code",
   "execution_count": 49,
   "metadata": {
    "collapsed": false
   },
   "outputs": [
    {
     "ename": "ValueError",
     "evalue": "Invalid reduction dimension 1 for input with 1 dimensions",
     "output_type": "error",
     "traceback": [
      "\u001b[0;31m---------------------------------------------------------------------------\u001b[0m",
      "\u001b[0;31mValueError\u001b[0m                                Traceback (most recent call last)",
      "\u001b[0;32m<ipython-input-49-83e7cdd0498e>\u001b[0m in \u001b[0;36m<module>\u001b[0;34m()\u001b[0m\n\u001b[0;32m----> 1\u001b[0;31m \u001b[0;32mprint\u001b[0m\u001b[0;34m(\u001b[0m\u001b[0mx_entropy\u001b[0m\u001b[0;34m(\u001b[0m\u001b[0mtrain_dataset\u001b[0m\u001b[0;34m[\u001b[0m\u001b[0;36m0\u001b[0m\u001b[0;34m]\u001b[0m\u001b[0;34m,\u001b[0m\u001b[0mtrain_dataset\u001b[0m\u001b[0;34m[\u001b[0m\u001b[0;36m0\u001b[0m\u001b[0;34m]\u001b[0m\u001b[0;34m)\u001b[0m\u001b[0;34m)\u001b[0m\u001b[0;34m\u001b[0m\u001b[0m\n\u001b[0m",
      "\u001b[0;32m<ipython-input-47-493dbdfdb113>\u001b[0m in \u001b[0;36mx_entropy\u001b[0;34m(output, target)\u001b[0m\n\u001b[1;32m     15\u001b[0m                            tf.mul(tf.log(1 - net_output_tf),\n\u001b[1;32m     16\u001b[0m                                   (1 - target_tf)))\n\u001b[0;32m---> 17\u001b[0;31m     return -1 * tf.reduce_mean(tf.reduce_sum(cross_entropy, 1),\n\u001b[0m\u001b[1;32m     18\u001b[0m                                  name='xentropy_mean')\n\u001b[1;32m     19\u001b[0m \u001b[0mgraph\u001b[0m \u001b[0;34m=\u001b[0m \u001b[0mtf\u001b[0m\u001b[0;34m.\u001b[0m\u001b[0mGraph\u001b[0m\u001b[0;34m(\u001b[0m\u001b[0;34m)\u001b[0m\u001b[0;34m\u001b[0m\u001b[0m\n",
      "\u001b[0;32m/Users/AlanYAN/anaconda/lib/python2.7/site-packages/tensorflow/python/ops/math_ops.pyc\u001b[0m in \u001b[0;36mreduce_sum\u001b[0;34m(input_tensor, reduction_indices, keep_dims, name)\u001b[0m\n\u001b[1;32m    695\u001b[0m   return gen_math_ops._sum(input_tensor, _ReductionDims(input_tensor,\n\u001b[1;32m    696\u001b[0m                                                         reduction_indices),\n\u001b[0;32m--> 697\u001b[0;31m                            keep_dims, name=name)\n\u001b[0m\u001b[1;32m    698\u001b[0m \u001b[0;34m\u001b[0m\u001b[0m\n\u001b[1;32m    699\u001b[0m \u001b[0;34m\u001b[0m\u001b[0m\n",
      "\u001b[0;32m/Users/AlanYAN/anaconda/lib/python2.7/site-packages/tensorflow/python/ops/gen_math_ops.pyc\u001b[0m in \u001b[0;36m_sum\u001b[0;34m(input, reduction_indices, keep_dims, name)\u001b[0m\n\u001b[1;32m   1464\u001b[0m   return _op_def_lib.apply_op(\"Sum\", input=input,\n\u001b[1;32m   1465\u001b[0m                               \u001b[0mreduction_indices\u001b[0m\u001b[0;34m=\u001b[0m\u001b[0mreduction_indices\u001b[0m\u001b[0;34m,\u001b[0m\u001b[0;34m\u001b[0m\u001b[0m\n\u001b[0;32m-> 1466\u001b[0;31m                               keep_dims=keep_dims, name=name)\n\u001b[0m\u001b[1;32m   1467\u001b[0m \u001b[0;34m\u001b[0m\u001b[0m\n\u001b[1;32m   1468\u001b[0m \u001b[0;34m\u001b[0m\u001b[0m\n",
      "\u001b[0;32m/Users/AlanYAN/anaconda/lib/python2.7/site-packages/tensorflow/python/ops/op_def_library.pyc\u001b[0m in \u001b[0;36mapply_op\u001b[0;34m(self, op_type_name, name, **keywords)\u001b[0m\n\u001b[1;32m    653\u001b[0m         op = g.create_op(op_type_name, inputs, output_types, name=scope,\n\u001b[1;32m    654\u001b[0m                          \u001b[0minput_types\u001b[0m\u001b[0;34m=\u001b[0m\u001b[0minput_types\u001b[0m\u001b[0;34m,\u001b[0m \u001b[0mattrs\u001b[0m\u001b[0;34m=\u001b[0m\u001b[0mattr_protos\u001b[0m\u001b[0;34m,\u001b[0m\u001b[0;34m\u001b[0m\u001b[0m\n\u001b[0;32m--> 655\u001b[0;31m                          op_def=op_def)\n\u001b[0m\u001b[1;32m    656\u001b[0m         \u001b[0moutputs\u001b[0m \u001b[0;34m=\u001b[0m \u001b[0mop\u001b[0m\u001b[0;34m.\u001b[0m\u001b[0moutputs\u001b[0m\u001b[0;34m\u001b[0m\u001b[0m\n\u001b[1;32m    657\u001b[0m         \u001b[0;32mreturn\u001b[0m \u001b[0m_Restructure\u001b[0m\u001b[0;34m(\u001b[0m\u001b[0mops\u001b[0m\u001b[0;34m.\u001b[0m\u001b[0mconvert_n_to_tensor\u001b[0m\u001b[0;34m(\u001b[0m\u001b[0moutputs\u001b[0m\u001b[0;34m)\u001b[0m\u001b[0;34m,\u001b[0m \u001b[0moutput_structure\u001b[0m\u001b[0;34m)\u001b[0m\u001b[0;34m\u001b[0m\u001b[0m\n",
      "\u001b[0;32m/Users/AlanYAN/anaconda/lib/python2.7/site-packages/tensorflow/python/framework/ops.pyc\u001b[0m in \u001b[0;36mcreate_op\u001b[0;34m(self, op_type, inputs, dtypes, input_types, name, attrs, op_def, compute_shapes, compute_device)\u001b[0m\n\u001b[1;32m   2040\u001b[0m                     original_op=self._default_original_op, op_def=op_def)\n\u001b[1;32m   2041\u001b[0m     \u001b[0;32mif\u001b[0m \u001b[0mcompute_shapes\u001b[0m\u001b[0;34m:\u001b[0m\u001b[0;34m\u001b[0m\u001b[0m\n\u001b[0;32m-> 2042\u001b[0;31m       \u001b[0mset_shapes_for_outputs\u001b[0m\u001b[0;34m(\u001b[0m\u001b[0mret\u001b[0m\u001b[0;34m)\u001b[0m\u001b[0;34m\u001b[0m\u001b[0m\n\u001b[0m\u001b[1;32m   2043\u001b[0m     \u001b[0mself\u001b[0m\u001b[0;34m.\u001b[0m\u001b[0m_add_op\u001b[0m\u001b[0;34m(\u001b[0m\u001b[0mret\u001b[0m\u001b[0;34m)\u001b[0m\u001b[0;34m\u001b[0m\u001b[0m\n\u001b[1;32m   2044\u001b[0m     \u001b[0mself\u001b[0m\u001b[0;34m.\u001b[0m\u001b[0m_record_op_seen_by_control_dependencies\u001b[0m\u001b[0;34m(\u001b[0m\u001b[0mret\u001b[0m\u001b[0;34m)\u001b[0m\u001b[0;34m\u001b[0m\u001b[0m\n",
      "\u001b[0;32m/Users/AlanYAN/anaconda/lib/python2.7/site-packages/tensorflow/python/framework/ops.pyc\u001b[0m in \u001b[0;36mset_shapes_for_outputs\u001b[0;34m(op)\u001b[0m\n\u001b[1;32m   1526\u001b[0m       raise RuntimeError(\"No shape function registered for standard op: %s\"\n\u001b[1;32m   1527\u001b[0m                          % op.type)\n\u001b[0;32m-> 1528\u001b[0;31m   \u001b[0mshapes\u001b[0m \u001b[0;34m=\u001b[0m \u001b[0mshape_func\u001b[0m\u001b[0;34m(\u001b[0m\u001b[0mop\u001b[0m\u001b[0;34m)\u001b[0m\u001b[0;34m\u001b[0m\u001b[0m\n\u001b[0m\u001b[1;32m   1529\u001b[0m   \u001b[0;32mif\u001b[0m \u001b[0mlen\u001b[0m\u001b[0;34m(\u001b[0m\u001b[0mop\u001b[0m\u001b[0;34m.\u001b[0m\u001b[0moutputs\u001b[0m\u001b[0;34m)\u001b[0m \u001b[0;34m!=\u001b[0m \u001b[0mlen\u001b[0m\u001b[0;34m(\u001b[0m\u001b[0mshapes\u001b[0m\u001b[0;34m)\u001b[0m\u001b[0;34m:\u001b[0m\u001b[0;34m\u001b[0m\u001b[0m\n\u001b[1;32m   1530\u001b[0m     raise RuntimeError(\n",
      "\u001b[0;32m/Users/AlanYAN/anaconda/lib/python2.7/site-packages/tensorflow/python/ops/math_ops.pyc\u001b[0m in \u001b[0;36m_ReductionShape\u001b[0;34m(op)\u001b[0m\n\u001b[1;32m   1398\u001b[0m     \u001b[0;32mif\u001b[0m \u001b[0mreduction_index\u001b[0m \u001b[0;34m<\u001b[0m \u001b[0;36m0\u001b[0m \u001b[0;32mor\u001b[0m \u001b[0mreduction_index\u001b[0m \u001b[0;34m>=\u001b[0m \u001b[0minput_shape\u001b[0m\u001b[0;34m.\u001b[0m\u001b[0mndims\u001b[0m\u001b[0;34m:\u001b[0m\u001b[0;34m\u001b[0m\u001b[0m\n\u001b[1;32m   1399\u001b[0m       raise ValueError(\"Invalid reduction dimension %d for input with %d \"\n\u001b[0;32m-> 1400\u001b[0;31m                        \"dimensions\" % (reduction_index, input_shape.ndims))\n\u001b[0m\u001b[1;32m   1401\u001b[0m \u001b[0;34m\u001b[0m\u001b[0m\n\u001b[1;32m   1402\u001b[0m   \u001b[0mreturned_dims\u001b[0m \u001b[0;34m=\u001b[0m \u001b[0;34m[\u001b[0m\u001b[0;34m]\u001b[0m\u001b[0;34m\u001b[0m\u001b[0m\n",
      "\u001b[0;31mValueError\u001b[0m: Invalid reduction dimension 1 for input with 1 dimensions"
     ]
    }
   ],
   "source": [
    "print(x_entropy(train_dataset[0],train_dataset[0]))"
   ]
  },
  {
   "cell_type": "code",
   "execution_count": 48,
   "metadata": {
    "collapsed": false
   },
   "outputs": [
    {
     "name": "stdout",
     "output_type": "stream",
     "text": [
      "Initialized\n",
      "Minibatch loss at step 0: nan\n",
      "Minibatch accuracy: 0.0%\n",
      "Validation accuracy: 0.0%\n",
      "Minibatch loss at step 500: nan\n",
      "Minibatch accuracy: 0.0%\n",
      "Validation accuracy: 0.0%\n"
     ]
    },
    {
     "ename": "KeyboardInterrupt",
     "evalue": "",
     "output_type": "error",
     "traceback": [
      "\u001b[0;31m---------------------------------------------------------------------------\u001b[0m",
      "\u001b[0;31mKeyboardInterrupt\u001b[0m                         Traceback (most recent call last)",
      "\u001b[0;32m<ipython-input-48-3fd0feb6faa6>\u001b[0m in \u001b[0;36m<module>\u001b[0;34m()\u001b[0m\n\u001b[1;32m     12\u001b[0m     \u001b[0mfeed_dict\u001b[0m \u001b[0;34m=\u001b[0m \u001b[0;34m{\u001b[0m\u001b[0mtf_train_dataset\u001b[0m \u001b[0;34m:\u001b[0m \u001b[0mbatch_data\u001b[0m\u001b[0;34m,\u001b[0m \u001b[0mtf_train_labels\u001b[0m \u001b[0;34m:\u001b[0m \u001b[0mbatch_labels\u001b[0m\u001b[0;34m}\u001b[0m\u001b[0;34m\u001b[0m\u001b[0m\n\u001b[1;32m     13\u001b[0m     _, l, predictions = session.run(\n\u001b[0;32m---> 14\u001b[0;31m       [optimizer, autoencoder_loss, train_prediction], feed_dict=feed_dict)\n\u001b[0m\u001b[1;32m     15\u001b[0m     \u001b[0;32mif\u001b[0m \u001b[0;34m(\u001b[0m\u001b[0mstep\u001b[0m \u001b[0;34m%\u001b[0m \u001b[0;36m500\u001b[0m \u001b[0;34m==\u001b[0m \u001b[0;36m0\u001b[0m\u001b[0;34m)\u001b[0m\u001b[0;34m:\u001b[0m\u001b[0;34m\u001b[0m\u001b[0m\n\u001b[1;32m     16\u001b[0m       \u001b[0;32mprint\u001b[0m\u001b[0;34m(\u001b[0m\u001b[0;34m\"Minibatch loss at step %d: %f\"\u001b[0m \u001b[0;34m%\u001b[0m \u001b[0;34m(\u001b[0m\u001b[0mstep\u001b[0m\u001b[0;34m,\u001b[0m \u001b[0ml\u001b[0m\u001b[0;34m)\u001b[0m\u001b[0;34m)\u001b[0m\u001b[0;34m\u001b[0m\u001b[0m\n",
      "\u001b[0;32m/Users/AlanYAN/anaconda/lib/python2.7/site-packages/tensorflow/python/client/session.pyc\u001b[0m in \u001b[0;36mrun\u001b[0;34m(self, fetches, feed_dict)\u001b[0m\n\u001b[1;32m    313\u001b[0m         \u001b[0;34m`\u001b[0m\u001b[0mTensor\u001b[0m\u001b[0;34m`\u001b[0m \u001b[0mthat\u001b[0m \u001b[0mdoesn\u001b[0m\u001b[0;31m'\u001b[0m\u001b[0mt\u001b[0m \u001b[0mexist\u001b[0m\u001b[0;34m.\u001b[0m\u001b[0;34m\u001b[0m\u001b[0m\n\u001b[1;32m    314\u001b[0m     \"\"\"\n\u001b[0;32m--> 315\u001b[0;31m     \u001b[0;32mreturn\u001b[0m \u001b[0mself\u001b[0m\u001b[0;34m.\u001b[0m\u001b[0m_run\u001b[0m\u001b[0;34m(\u001b[0m\u001b[0mNone\u001b[0m\u001b[0;34m,\u001b[0m \u001b[0mfetches\u001b[0m\u001b[0;34m,\u001b[0m \u001b[0mfeed_dict\u001b[0m\u001b[0;34m)\u001b[0m\u001b[0;34m\u001b[0m\u001b[0m\n\u001b[0m\u001b[1;32m    316\u001b[0m \u001b[0;34m\u001b[0m\u001b[0m\n\u001b[1;32m    317\u001b[0m   \u001b[0;32mdef\u001b[0m \u001b[0mpartial_run\u001b[0m\u001b[0;34m(\u001b[0m\u001b[0mself\u001b[0m\u001b[0;34m,\u001b[0m \u001b[0mhandle\u001b[0m\u001b[0;34m,\u001b[0m \u001b[0mfetches\u001b[0m\u001b[0;34m,\u001b[0m \u001b[0mfeed_dict\u001b[0m\u001b[0;34m=\u001b[0m\u001b[0mNone\u001b[0m\u001b[0;34m)\u001b[0m\u001b[0;34m:\u001b[0m\u001b[0;34m\u001b[0m\u001b[0m\n",
      "\u001b[0;32m/Users/AlanYAN/anaconda/lib/python2.7/site-packages/tensorflow/python/client/session.pyc\u001b[0m in \u001b[0;36m_run\u001b[0;34m(self, handle, fetches, feed_dict)\u001b[0m\n\u001b[1;32m    509\u001b[0m     \u001b[0;31m# Run request and get response.\u001b[0m\u001b[0;34m\u001b[0m\u001b[0;34m\u001b[0m\u001b[0m\n\u001b[1;32m    510\u001b[0m     results = self._do_run(handle, target_list, unique_fetches,\n\u001b[0;32m--> 511\u001b[0;31m                            feed_dict_string)\n\u001b[0m\u001b[1;32m    512\u001b[0m \u001b[0;34m\u001b[0m\u001b[0m\n\u001b[1;32m    513\u001b[0m     \u001b[0;31m# User may have fetched the same tensor multiple times, but we\u001b[0m\u001b[0;34m\u001b[0m\u001b[0;34m\u001b[0m\u001b[0m\n",
      "\u001b[0;32m/Users/AlanYAN/anaconda/lib/python2.7/site-packages/tensorflow/python/client/session.pyc\u001b[0m in \u001b[0;36m_do_run\u001b[0;34m(self, handle, target_list, fetch_list, feed_dict)\u001b[0m\n\u001b[1;32m    562\u001b[0m     \u001b[0;32mif\u001b[0m \u001b[0mhandle\u001b[0m \u001b[0;32mis\u001b[0m \u001b[0mNone\u001b[0m\u001b[0;34m:\u001b[0m\u001b[0;34m\u001b[0m\u001b[0m\n\u001b[1;32m    563\u001b[0m       return self._do_call(_run_fn, self._session, feed_dict, fetch_list,\n\u001b[0;32m--> 564\u001b[0;31m                            target_list)\n\u001b[0m\u001b[1;32m    565\u001b[0m     \u001b[0;32melse\u001b[0m\u001b[0;34m:\u001b[0m\u001b[0;34m\u001b[0m\u001b[0m\n\u001b[1;32m    566\u001b[0m       return self._do_call(_prun_fn, self._session, handle, feed_dict,\n",
      "\u001b[0;32m/Users/AlanYAN/anaconda/lib/python2.7/site-packages/tensorflow/python/client/session.pyc\u001b[0m in \u001b[0;36m_do_call\u001b[0;34m(self, fn, *args)\u001b[0m\n\u001b[1;32m    569\u001b[0m   \u001b[0;32mdef\u001b[0m \u001b[0m_do_call\u001b[0m\u001b[0;34m(\u001b[0m\u001b[0mself\u001b[0m\u001b[0;34m,\u001b[0m \u001b[0mfn\u001b[0m\u001b[0;34m,\u001b[0m \u001b[0;34m*\u001b[0m\u001b[0margs\u001b[0m\u001b[0;34m)\u001b[0m\u001b[0;34m:\u001b[0m\u001b[0;34m\u001b[0m\u001b[0m\n\u001b[1;32m    570\u001b[0m     \u001b[0;32mtry\u001b[0m\u001b[0;34m:\u001b[0m\u001b[0;34m\u001b[0m\u001b[0m\n\u001b[0;32m--> 571\u001b[0;31m       \u001b[0;32mreturn\u001b[0m \u001b[0mfn\u001b[0m\u001b[0;34m(\u001b[0m\u001b[0;34m*\u001b[0m\u001b[0margs\u001b[0m\u001b[0;34m)\u001b[0m\u001b[0;34m\u001b[0m\u001b[0m\n\u001b[0m\u001b[1;32m    572\u001b[0m     \u001b[0;32mexcept\u001b[0m \u001b[0mtf_session\u001b[0m\u001b[0;34m.\u001b[0m\u001b[0mStatusNotOK\u001b[0m \u001b[0;32mas\u001b[0m \u001b[0me\u001b[0m\u001b[0;34m:\u001b[0m\u001b[0;34m\u001b[0m\u001b[0m\n\u001b[1;32m    573\u001b[0m       \u001b[0me_type\u001b[0m\u001b[0;34m,\u001b[0m \u001b[0me_value\u001b[0m\u001b[0;34m,\u001b[0m \u001b[0me_traceback\u001b[0m \u001b[0;34m=\u001b[0m \u001b[0msys\u001b[0m\u001b[0;34m.\u001b[0m\u001b[0mexc_info\u001b[0m\u001b[0;34m(\u001b[0m\u001b[0;34m)\u001b[0m\u001b[0;34m\u001b[0m\u001b[0m\n",
      "\u001b[0;32m/Users/AlanYAN/anaconda/lib/python2.7/site-packages/tensorflow/python/client/session.pyc\u001b[0m in \u001b[0;36m_run_fn\u001b[0;34m(session, feed_dict, fetch_list, target_list)\u001b[0m\n\u001b[1;32m    553\u001b[0m       \u001b[0;31m# Ensure any changes to the graph are reflected in the runtime.\u001b[0m\u001b[0;34m\u001b[0m\u001b[0;34m\u001b[0m\u001b[0m\n\u001b[1;32m    554\u001b[0m       \u001b[0mself\u001b[0m\u001b[0;34m.\u001b[0m\u001b[0m_extend_graph\u001b[0m\u001b[0;34m(\u001b[0m\u001b[0;34m)\u001b[0m\u001b[0;34m\u001b[0m\u001b[0m\n\u001b[0;32m--> 555\u001b[0;31m       \u001b[0;32mreturn\u001b[0m \u001b[0mtf_session\u001b[0m\u001b[0;34m.\u001b[0m\u001b[0mTF_Run\u001b[0m\u001b[0;34m(\u001b[0m\u001b[0msession\u001b[0m\u001b[0;34m,\u001b[0m \u001b[0mfeed_dict\u001b[0m\u001b[0;34m,\u001b[0m \u001b[0mfetch_list\u001b[0m\u001b[0;34m,\u001b[0m \u001b[0mtarget_list\u001b[0m\u001b[0;34m)\u001b[0m\u001b[0;34m\u001b[0m\u001b[0m\n\u001b[0m\u001b[1;32m    556\u001b[0m \u001b[0;34m\u001b[0m\u001b[0m\n\u001b[1;32m    557\u001b[0m     \u001b[0;32mdef\u001b[0m \u001b[0m_prun_fn\u001b[0m\u001b[0;34m(\u001b[0m\u001b[0msession\u001b[0m\u001b[0;34m,\u001b[0m \u001b[0mhandle\u001b[0m\u001b[0;34m,\u001b[0m \u001b[0mfeed_dict\u001b[0m\u001b[0;34m,\u001b[0m \u001b[0mfetch_list\u001b[0m\u001b[0;34m)\u001b[0m\u001b[0;34m:\u001b[0m\u001b[0;34m\u001b[0m\u001b[0m\n",
      "\u001b[0;31mKeyboardInterrupt\u001b[0m: "
     ]
    }
   ],
   "source": [
    "num_steps = 3001\n",
    "\n",
    "with tf.Session(graph=graph) as session:\n",
    "  tf.initialize_all_variables().run()\n",
    "  print(\"Initialized\")\n",
    "  for step in range(num_steps):\n",
    "    offset = (step * batch_size) % (train_labels.shape[0] - batch_size)\n",
    "    # Generate a minibatch.\n",
    "    batch_data = train_dataset[offset:(offset + batch_size), :]\n",
    "    batch_labels = train_labels[offset:(offset + batch_size), :]\n",
    "    # Prepare a dictionary telling the session where to feed the minibatch.\n",
    "    feed_dict = {tf_train_dataset : batch_data, tf_train_labels : batch_labels}\n",
    "    _, l, predictions = session.run(\n",
    "      [optimizer, autoencoder_loss, train_prediction], feed_dict=feed_dict)\n",
    "    if (step % 500 == 0):\n",
    "      print(\"Minibatch loss at step %d: %f\" % (step, l))\n",
    "      print(\"Minibatch accuracy: %.1f%%\" % encoding_accuracy(predictions, batch_labels))\n",
    "      print(\"Validation accuracy: %.1f%%\" % encoding_accuracy(\n",
    "        valid_prediction.eval(), valid_labels))\n",
    "  print(\"Test accuracy: %.1f%%\" % accuracy(test_prediction.eval(), test_labels))"
   ]
  },
  {
   "cell_type": "code",
   "execution_count": null,
   "metadata": {
    "collapsed": true
   },
   "outputs": [],
   "source": []
  }
 ],
 "metadata": {
  "colab": {
   "default_view": {},
   "name": "2_fullyconnected.ipynb",
   "provenance": [],
   "version": "0.3.2",
   "views": {}
  },
  "kernelspec": {
   "display_name": "Python 2",
   "language": "python",
   "name": "python2"
  },
  "language_info": {
   "codemirror_mode": {
    "name": "ipython",
    "version": 2
   },
   "file_extension": ".py",
   "mimetype": "text/x-python",
   "name": "python",
   "nbconvert_exporter": "python",
   "pygments_lexer": "ipython2",
   "version": "2.7.10"
  }
 },
 "nbformat": 4,
 "nbformat_minor": 0
}
